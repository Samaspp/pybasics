{
  "nbformat": 4,
  "nbformat_minor": 0,
  "metadata": {
    "colab": {
      "provenance": [],
      "authorship_tag": "ABX9TyNBhQXsEoaHh4ppq7HFPoVb",
      "include_colab_link": true
    },
    "kernelspec": {
      "name": "python3",
      "display_name": "Python 3"
    },
    "language_info": {
      "name": "python"
    }
  },
  "cells": [
    {
      "cell_type": "markdown",
      "metadata": {
        "id": "view-in-github",
        "colab_type": "text"
      },
      "source": [
        "<a href=\"https://colab.research.google.com/github/Samaspp/pybasics/blob/main/basics.ipynb\" target=\"_parent\"><img src=\"https://colab.research.google.com/assets/colab-badge.svg\" alt=\"Open In Colab\"/></a>"
      ]
    },
    {
      "cell_type": "code",
      "execution_count": null,
      "metadata": {
        "colab": {
          "base_uri": "https://localhost:8080/"
        },
        "id": "rBswrmXxuJGJ",
        "outputId": "b017ddb4-97bc-41cc-9f77-dc1bfa39ba56"
      },
      "outputs": [
        {
          "output_type": "stream",
          "name": "stdout",
          "text": [
            "hello world\n"
          ]
        }
      ],
      "source": [
        "print('hello world')"
      ]
    },
    {
      "cell_type": "markdown",
      "source": [
        "Variable-stores value or object. created using assignment, their type is assigned dynamically. type(object) for type. variable can be mutable(value can change) or immutable. datatypes are classes and variables are objects. floating points are accurate upto 15 decimal places."
      ],
      "metadata": {
        "id": "IZNsTPhpwNV7"
      }
    },
    {
      "cell_type": "code",
      "source": [
        "x=\"sami\"\n",
        "print(type(x))\n",
        "y=7\n",
        "print(type(y))\n",
        "z=24.5\n",
        "print(type(z))\n",
        "a=3+4j\n",
        "(type(a))\n",
        "t=True\n",
        "print(type(t))\n",
        "b=5.1245678901234569\n",
        "print(b)\n",
        "type(b)\n",
        "del b\n",
        "#print(b) gives error cus b not declared"
      ],
      "metadata": {
        "colab": {
          "base_uri": "https://localhost:8080/"
        },
        "id": "zdnDYAFouUz4",
        "outputId": "98219152-4c5d-4317-b136-9c8d0f851b89"
      },
      "execution_count": null,
      "outputs": [
        {
          "output_type": "stream",
          "name": "stdout",
          "text": [
            "<class 'str'>\n",
            "<class 'int'>\n",
            "<class 'float'>\n",
            "<class 'bool'>\n",
            "5.124567890123457\n"
          ]
        }
      ]
    },
    {
      "cell_type": "markdown",
      "source": [
        "in the above example del b is used, del deletes objects so when you do print you get an error -\n",
        "NameError: name 'b' is not defined"
      ],
      "metadata": {
        "id": "5uK-J4w71w8p"
      }
    },
    {
      "cell_type": "markdown",
      "source": [
        "to list all keywords"
      ],
      "metadata": {
        "id": "mnrWHbFqxQgd"
      }
    },
    {
      "cell_type": "code",
      "source": [
        "import keyword\n",
        "print(keyword.kwlist)"
      ],
      "metadata": {
        "colab": {
          "base_uri": "https://localhost:8080/"
        },
        "id": "B4baILCRxTDR",
        "outputId": "adcb0f50-1095-4ce3-f52e-5828c7a8c9c4"
      },
      "execution_count": null,
      "outputs": [
        {
          "output_type": "stream",
          "name": "stdout",
          "text": [
            "['False', 'None', 'True', 'and', 'as', 'assert', 'async', 'await', 'break', 'class', 'continue', 'def', 'del', 'elif', 'else', 'except', 'finally', 'for', 'from', 'global', 'if', 'import', 'in', 'is', 'lambda', 'nonlocal', 'not', 'or', 'pass', 'raise', 'return', 'try', 'while', 'with', 'yield']\n"
          ]
        }
      ]
    },
    {
      "cell_type": "markdown",
      "source": [
        "isinstance() to check if obj belongs in a particular class"
      ],
      "metadata": {
        "id": "w__S3cMkysak"
      }
    },
    {
      "cell_type": "code",
      "source": [
        "a=10\n",
        "isinstance(a,int)"
      ],
      "metadata": {
        "colab": {
          "base_uri": "https://localhost:8080/"
        },
        "id": "iO2ouvRyxOpF",
        "outputId": "2511da7a-5623-47fa-bf0e-9875395bf8db"
      },
      "execution_count": null,
      "outputs": [
        {
          "output_type": "execute_result",
          "data": {
            "text/plain": [
              "True"
            ]
          },
          "metadata": {},
          "execution_count": 12
        }
      ]
    },
    {
      "cell_type": "markdown",
      "source": [
        "Binary, hexa decimal, octal values can be assigned with the prefix 0b,0x and 0o"
      ],
      "metadata": {
        "id": "FeOEwAvF2fNZ"
      }
    },
    {
      "cell_type": "code",
      "source": [
        "a=0b1010\n",
        "print(a)\n",
        "b=0xa\n",
        "print(b)\n",
        "c=0o12\n",
        "print(c)"
      ],
      "metadata": {
        "colab": {
          "base_uri": "https://localhost:8080/"
        },
        "id": "Q--tWCxn2sUC",
        "outputId": "24a2c85c-0937-4707-f5ed-08d99d530d52"
      },
      "execution_count": null,
      "outputs": [
        {
          "output_type": "stream",
          "name": "stdout",
          "text": [
            "10\n",
            "10\n",
            "10\n"
          ]
        }
      ]
    },
    {
      "cell_type": "markdown",
      "source": [
        "String is sequence of Unicode characters. We can use single quotes or double quotes to represent strings. Multi-line strings can be denoted using triple quotes, ''' or \"\"\"."
      ],
      "metadata": {
        "id": "p1r56uvd38vH"
      }
    },
    {
      "cell_type": "code",
      "source": [
        "s=\"This is a string\"\n",
        "print(s)\n",
        "multis='''\\nthis is a\n",
        "multi-line\n",
        "   string'''\n",
        "print(multis)"
      ],
      "metadata": {
        "colab": {
          "base_uri": "https://localhost:8080/"
        },
        "id": "XmUnnM814Na2",
        "outputId": "c87c98a8-1c77-485a-fa75-de78c4a3df16"
      },
      "execution_count": null,
      "outputs": [
        {
          "output_type": "stream",
          "name": "stdout",
          "text": [
            "This is a string\n",
            "\n",
            "this is a \n",
            "multi-line \n",
            "   string\n"
          ]
        }
      ]
    },
    {
      "cell_type": "markdown",
      "source": [
        "slicing operator [ ] can be used with strings to extract characters from  Strings, however strings are immutable ie; we cannot change the characters. it ll give error if you try to change the characters likes S[3]='d'"
      ],
      "metadata": {
        "id": "NTJSJS9g--Hk"
      }
    },
    {
      "cell_type": "code",
      "source": [
        "S=\"python\"\n",
        "print(S[2:5]) #extract characters 2-4\n",
        "S*2"
      ],
      "metadata": {
        "colab": {
          "base_uri": "https://localhost:8080/",
          "height": 55
        },
        "id": "m5FJtZ6n-8g7",
        "outputId": "31492f4e-d02a-429f-b15d-962f4058782b"
      },
      "execution_count": null,
      "outputs": [
        {
          "output_type": "stream",
          "name": "stdout",
          "text": [
            "tho\n"
          ]
        },
        {
          "output_type": "execute_result",
          "data": {
            "text/plain": [
              "'pythonpython'"
            ],
            "application/vnd.google.colaboratory.intrinsic+json": {
              "type": "string"
            }
          },
          "metadata": {},
          "execution_count": 21
        }
      ]
    },
    {
      "cell_type": "markdown",
      "source": [
        "We can convert between different data types by using different type conversion functions like int(), float(), str(), etc."
      ],
      "metadata": {
        "id": "pup-WKF8ArEC"
      }
    },
    {
      "cell_type": "code",
      "source": [
        "print(float(5))\n",
        "print(bool(5))\n",
        "print(bool(0))\n",
        "print(int(5.6)) #truncate the value to make it closer to 0\n",
        "print(int(-10.6))\n",
        "print(chr(66))\n",
        "print(oct(12))\n",
        "print(hex(12))\n",
        "print(bin(12))"
      ],
      "metadata": {
        "colab": {
          "base_uri": "https://localhost:8080/"
        },
        "id": "K7e85EVJAkKy",
        "outputId": "0b2a599e-d0e8-48e9-dcd4-3a5a90e25122"
      },
      "execution_count": null,
      "outputs": [
        {
          "output_type": "stream",
          "name": "stdout",
          "text": [
            "5.0\n",
            "True\n",
            "False\n",
            "5\n",
            "-10\n",
            "B\n",
            "0o14\n",
            "0xc\n",
            "0b1100\n"
          ]
        }
      ]
    },
    {
      "cell_type": "markdown",
      "source": [
        "Conversion to and from string must contain compatible values."
      ],
      "metadata": {
        "id": "40tELMRTBfdM"
      }
    },
    {
      "cell_type": "code",
      "source": [
        "print(round(5.6))\n",
        "print(round(float('10.6')))"
      ],
      "metadata": {
        "colab": {
          "base_uri": "https://localhost:8080/"
        },
        "id": "Nk8wPBRRBiWe",
        "outputId": "b80c5f80-4e8a-481a-d639-b8abc3b8b55b"
      },
      "execution_count": null,
      "outputs": [
        {
          "output_type": "stream",
          "name": "stdout",
          "text": [
            "6\n",
            "11\n"
          ]
        }
      ]
    },
    {
      "cell_type": "code",
      "source": [
        "mins=59\n",
        "fraction=mins/60\n",
        "print(fraction)"
      ],
      "metadata": {
        "colab": {
          "base_uri": "https://localhost:8080/"
        },
        "id": "2SXIwEwzDpni",
        "outputId": "6af04b5d-33ba-4b2c-803b-871648ce18c7"
      },
      "execution_count": null,
      "outputs": [
        {
          "output_type": "stream",
          "name": "stdout",
          "text": [
            "0.9833333333333333\n"
          ]
        }
      ]
    },
    {
      "cell_type": "markdown",
      "source": [
        "OPERATORS\n",
        "\n"
      ],
      "metadata": {
        "id": "i1fTLfLcEISR"
      }
    },
    {
      "cell_type": "code",
      "source": [
        "#addition\n",
        "print(55+60)\n",
        "print(\"good\"+\"morning\")\n",
        "\n",
        "#subtraction\n",
        "print(55-70)\n",
        "\n",
        "#multiplication\n",
        "print(67*6)\n",
        "print(\"good\"*5)\n",
        "\n",
        "#division\n",
        "print(17/5)\n",
        "print(17/5.0)\n",
        "print(4.0/5)\n",
        "print(29/4)\n",
        "\n",
        "#remainder/modulo\n",
        "print(17%5)\n",
        "print(23%2)\n",
        "\n",
        "#exponentiation **\n",
        "print(2**3)\n",
        "print(4**4)\n",
        "print(16**0.5)\n",
        "\n",
        "#integer division //\n",
        "print(7//2)\n",
        "print(7.0//2)"
      ],
      "metadata": {
        "colab": {
          "base_uri": "https://localhost:8080/"
        },
        "id": "bQEgmwyPEotU",
        "outputId": "83b832df-c371-4ad7-aca9-67eafbb5334d"
      },
      "execution_count": null,
      "outputs": [
        {
          "output_type": "stream",
          "name": "stdout",
          "text": [
            "115\n",
            "goodmorning\n",
            "-15\n",
            "402\n",
            "goodgoodgoodgoodgood\n",
            "3.4\n",
            "3.4\n",
            "0.8\n",
            "7.25\n",
            "2\n",
            "1\n",
            "8\n",
            "256\n",
            "4.0\n",
            "3\n",
            "3.0\n"
          ]
        }
      ]
    },
    {
      "cell_type": "markdown",
      "source": [
        "Relational operators"
      ],
      "metadata": {
        "id": "WXkAB4bnJiNY"
      }
    },
    {
      "cell_type": "code",
      "source": [
        "#Less than\n",
        "print(7<9)\n",
        "print(\"goodbye\"<\"hello\")\n",
        "\n",
        "#greater than\n",
        "print(7>5)\n",
        "print(\"goofball\">\"goofbalm\")\n",
        "print(\"goofbaml\">\"goofbalm\")\n",
        "\n",
        "#less than equal\n",
        "print(2<=5)\n",
        "print(2<=2)\n",
        "\n",
        "#similarly theres >=, !=, =="
      ],
      "metadata": {
        "colab": {
          "base_uri": "https://localhost:8080/"
        },
        "id": "7VP5Z4P-JofY",
        "outputId": "97c3c91a-a1e9-415c-ad66-ac16418021d5"
      },
      "execution_count": null,
      "outputs": [
        {
          "output_type": "stream",
          "name": "stdout",
          "text": [
            "True\n",
            "True\n",
            "True\n",
            "False\n",
            "True\n",
            "True\n",
            "True\n"
          ]
        }
      ]
    },
    {
      "cell_type": "markdown",
      "source": [
        "Assignment operators\n"
      ],
      "metadata": {
        "id": "ILt4Pj47MD9Q"
      }
    },
    {
      "cell_type": "code",
      "source": [
        "v=8\n",
        "v+=7\n",
        "print(v)\n",
        "v/=3\n",
        "print(v)\n",
        "v**=2\n",
        "print(v)\n",
        "v=int(v)\n",
        "v//=5\n",
        "print(v)"
      ],
      "metadata": {
        "colab": {
          "base_uri": "https://localhost:8080/"
        },
        "id": "IxsXf8lWMGnU",
        "outputId": "fbde1a8b-df45-46cb-c6c0-88cbbc76baf9"
      },
      "execution_count": null,
      "outputs": [
        {
          "output_type": "stream",
          "name": "stdout",
          "text": [
            "15\n",
            "5.0\n",
            "25.0\n",
            "5\n"
          ]
        }
      ]
    },
    {
      "cell_type": "markdown",
      "source": [
        "Logical operators\n",
        "or- If any one of the operand is true, then the condition becomes true.\n",
        "\n",
        "and- If both the operands are true, then the condition becomes true.\n",
        "\n",
        "not- Reverses the state of operand/condition.\n",
        "\n",
        "Note:The Python Virtual Machine sometimes knows the value of Boolean expression before it has evaluated all of its operands. For instance, in the expression A and B, if A is false, then so is the expression and there is no need to evaluate B.Likewise in the expression A or B, if A is true, then so is the expression, and again there is no need to evaluate B. This approach, in which evaluation stops as soon as possible is called short-circuit evaluation.\n"
      ],
      "metadata": {
        "id": "eLjdqnmiN4HO"
      }
    },
    {
      "cell_type": "markdown",
      "source": [
        "Bitwise operators"
      ],
      "metadata": {
        "id": "3tVTu4B0SviR"
      }
    },
    {
      "cell_type": "code",
      "source": [
        "a=0b00111100\n",
        "b=0b00001101\n",
        "\n",
        "print(bin(a&b)) #Operator copies a bit, to the result, if it exists in both operands\n",
        "print(bin(a|b)) #It copies a bit, if it exists in either operand.\n",
        "print(bin(a^b)) #It copies the bit, if it is set in one operand but not both.\n",
        "print(bin(~a)) #It is unary and has the effect of 'flipping' bits.\n",
        "print(bin(a<<2)) #The left operand's value is moved left by the number of bits specified by the right operand.\n",
        "print(bin(a>>2)) #The left operand's value is moved right by the number of bits specified by the right operand."
      ],
      "metadata": {
        "colab": {
          "base_uri": "https://localhost:8080/"
        },
        "id": "N7JSVdq4S0CG",
        "outputId": "85d8625c-586f-49ae-d23a-cdca6cf3ccdf"
      },
      "execution_count": null,
      "outputs": [
        {
          "output_type": "stream",
          "name": "stdout",
          "text": [
            "0b1100\n",
            "0b111101\n",
            "0b110001\n",
            "-0b111101\n",
            "0b11110000\n",
            "0b1111\n"
          ]
        }
      ]
    },
    {
      "cell_type": "markdown",
      "source": [
        "Membership operators\n",
        "1. in -Evaluates to true if it finds a variable in the specified sequence and false otherwise.\n",
        "2. not in -Evaluates to true if it does not finds a variable in the specified sequence and false otherwise."
      ],
      "metadata": {
        "id": "JHxr8pODVta-"
      }
    },
    {
      "cell_type": "code",
      "source": [
        "s=\"python\"\n",
        "c=\"y\"\n",
        "d=\"d\"\n",
        "if c in s:\n",
        "  print(True)\n",
        "if d not in s:\n",
        "  print(False)"
      ],
      "metadata": {
        "colab": {
          "base_uri": "https://localhost:8080/"
        },
        "id": "6ic9wGCXWgys",
        "outputId": "947d5fcb-1276-43be-c58e-76603029b1a0"
      },
      "execution_count": null,
      "outputs": [
        {
          "output_type": "stream",
          "name": "stdout",
          "text": [
            "True\n",
            "False\n"
          ]
        }
      ]
    },
    {
      "cell_type": "markdown",
      "source": [
        "Identity operators"
      ],
      "metadata": {
        "id": "UZ6b7LzBXWQL"
      }
    },
    {
      "cell_type": "code",
      "source": [
        "x=10\n",
        "y=x\n",
        "z=11\n",
        "if x is y:  #Evaluates to true if the variables on either side of the operator point to the same object and false otherwise.\n",
        "  print(True)\n",
        "if z is not y:  #Evaluates to false if the variables on either side of the operator point to the same object and true otherwise.\n",
        "  print(False)\n"
      ],
      "metadata": {
        "colab": {
          "base_uri": "https://localhost:8080/"
        },
        "id": "QY90rkDLXZv4",
        "outputId": "1296fc63-eaab-461f-eff9-750be0d384af"
      },
      "execution_count": null,
      "outputs": [
        {
          "output_type": "stream",
          "name": "stdout",
          "text": [
            "True\n",
            "False\n"
          ]
        }
      ]
    }
  ]
}